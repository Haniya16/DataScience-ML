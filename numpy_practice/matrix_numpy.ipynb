{
 "cells": [
  {
   "cell_type": "markdown",
   "id": "8a2df0e1-e29a-4998-a21c-4b4e5dad7049",
   "metadata": {},
   "source": [
    "# Numpy Practice \n",
    "#### First import numpy"
   ]
  },
  {
   "cell_type": "code",
   "execution_count": 2,
   "id": "f585d01e-81c2-49c0-811a-6d2256aad618",
   "metadata": {},
   "outputs": [],
   "source": [
    "import numpy as np"
   ]
  },
  {
   "cell_type": "code",
   "execution_count": 15,
   "id": "a703939d-0c28-4b30-a9b6-09206ffe804e",
   "metadata": {},
   "outputs": [
    {
     "name": "stdout",
     "output_type": "stream",
     "text": [
      "<module 'numpy' from 'C:\\\\ProgramData\\\\anaconda3\\\\Lib\\\\site-packages\\\\numpy\\\\__init__.py'>\n"
     ]
    }
   ],
   "source": [
    "print(np)"
   ]
  },
  {
   "cell_type": "markdown",
   "id": "a3857957-22cc-4001-832e-2bc013854f37",
   "metadata": {},
   "source": [
    "## Types of Matrix using numpy\n",
    "1. Row matrix\n",
    "2. Column matrix\n",
    "3. Square matrix\n",
    "4. Identity matrix\n",
    "5. Zero matrix\n",
    "6. Ones matrix\n",
    "7. Random matrix\n",
    "8. Diagonal matrix\n",
    "9. Upper triangular matrix\n",
    "10. Lower triangular  matrix\n",
    "11. Symmetric matrix\n",
    "12. Vander matrix\n",
    "13. Hankel matrix\n"
   ]
  },
  {
   "cell_type": "code",
   "execution_count": 12,
   "id": "49a66dea-fc47-4e22-9faa-cdcfc7ba7507",
   "metadata": {},
   "outputs": [
    {
     "name": "stdout",
     "output_type": "stream",
     "text": [
      "[[1 2 5 6]]\n"
     ]
    }
   ],
   "source": [
    "# row matrix\n",
    "\n",
    "ro_matrix = np.array([[1,2,5,6]])\n",
    "print(ro_matrix)"
   ]
  },
  {
   "cell_type": "code",
   "execution_count": 13,
   "id": "50473101-255d-4f66-9457-98fa843d29c7",
   "metadata": {},
   "outputs": [
    {
     "name": "stdout",
     "output_type": "stream",
     "text": [
      "[[9]\n",
      " [7]\n",
      " [6]]\n"
     ]
    }
   ],
   "source": [
    "# column matrix\n",
    "\n",
    "col_matrix = np.array([[9],[7],[6]])\n",
    "print(col_matrix)"
   ]
  },
  {
   "cell_type": "code",
   "execution_count": 4,
   "id": "cf137ca0-7e93-4df7-9ecd-e5540854f1d2",
   "metadata": {},
   "outputs": [
    {
     "name": "stdout",
     "output_type": "stream",
     "text": [
      "[[0 1 2]\n",
      " [3 4 5]\n",
      " [6 7 8]]\n"
     ]
    }
   ],
   "source": [
    "# simple 3*3 matrix or square matrix\n",
    "\n",
    "matrix = np.array([[0,1,2],[3,4,5],[6,7,8]])\n",
    "print(matrix)"
   ]
  },
  {
   "cell_type": "code",
   "execution_count": 6,
   "id": "3f0c83a6-1411-4dc4-9fb5-705a1eac0b82",
   "metadata": {},
   "outputs": [
    {
     "name": "stdout",
     "output_type": "stream",
     "text": [
      "[[1. 0. 0. 0.]\n",
      " [0. 1. 0. 0.]\n",
      " [0. 0. 1. 0.]\n",
      " [0. 0. 0. 1.]]\n"
     ]
    }
   ],
   "source": [
    "# identity matrix\n",
    "\n",
    "i_matrix = np.eye(4)\n",
    "print(i_matrix)"
   ]
  },
  {
   "cell_type": "code",
   "execution_count": 16,
   "id": "bd7d3f6d-ae95-46f0-b7b3-8ccc5a5344ed",
   "metadata": {},
   "outputs": [
    {
     "name": "stdout",
     "output_type": "stream",
     "text": [
      "[[0. 0.]\n",
      " [0. 0.]\n",
      " [0. 0.]]\n"
     ]
    }
   ],
   "source": [
    "# zero matrix\n",
    "\n",
    "z_matrix = np.zeros((3,2))\n",
    "print(z_matrix)"
   ]
  },
  {
   "cell_type": "code",
   "execution_count": 11,
   "id": "746db927-71f1-4e01-90e4-49e88117cf3e",
   "metadata": {},
   "outputs": [
    {
     "name": "stdout",
     "output_type": "stream",
     "text": [
      "[[1. 1. 1. 1.]\n",
      " [1. 1. 1. 1.]]\n"
     ]
    }
   ],
   "source": [
    "# ones matrix\n",
    "\n",
    "o_matrix = np.ones((2,4))\n",
    "print(o_matrix)"
   ]
  },
  {
   "cell_type": "code",
   "execution_count": 13,
   "id": "e0a5b45a-2f1f-486f-a3cd-efafbf878b4a",
   "metadata": {},
   "outputs": [
    {
     "name": "stdout",
     "output_type": "stream",
     "text": [
      "[[ 9  7  6 11]\n",
      " [ 1  0  9  2]]\n"
     ]
    }
   ],
   "source": [
    "# random matrix\n",
    "\n",
    "r_matrix = np.random.randint(0,15,(2,4))\n",
    "print(r_matrix)"
   ]
  },
  {
   "cell_type": "code",
   "execution_count": 16,
   "id": "515ba24c-a07a-47d0-8758-21b18aa63ae8",
   "metadata": {},
   "outputs": [
    {
     "name": "stdout",
     "output_type": "stream",
     "text": [
      "[[4 0 0]\n",
      " [0 7 0]\n",
      " [0 0 9]]\n"
     ]
    }
   ],
   "source": [
    "# diagonal matrix\n",
    "\n",
    "d_matrix = np.diag([4,7,9])\n",
    "print(d_matrix)"
   ]
  },
  {
   "cell_type": "code",
   "execution_count": 17,
   "id": "ba130013-0db2-4b1e-928e-cf6e68a21de4",
   "metadata": {},
   "outputs": [
    {
     "name": "stdout",
     "output_type": "stream",
     "text": [
      "[[22 12 11]\n",
      " [ 0 23 24]\n",
      " [ 0  0 88]]\n"
     ]
    }
   ],
   "source": [
    "# upper triangular matrix\n",
    "\n",
    "up_matrix = np.triu([[22,12,11],[11,23,24],[44,56,88]])\n",
    "print(up_matrix)"
   ]
  },
  {
   "cell_type": "code",
   "execution_count": 23,
   "id": "313b275b-ddbd-437a-a47c-43f00c943a3d",
   "metadata": {},
   "outputs": [
    {
     "name": "stdout",
     "output_type": "stream",
     "text": [
      "[[14  0  0]\n",
      " [19  8  0]\n",
      " [ 9  7  3]]\n"
     ]
    }
   ],
   "source": [
    "# lower triangular matrix\n",
    "\n",
    "lw_matrix = np.tril([[14,16,18],[19,8,23],[9,7,3]])\n",
    "print(lw_matrix)"
   ]
  },
  {
   "cell_type": "code",
   "execution_count": 24,
   "id": "5d82915e-666d-4d2b-8976-b9cc3235c515",
   "metadata": {},
   "outputs": [
    {
     "name": "stdout",
     "output_type": "stream",
     "text": [
      "[[1 2 3]\n",
      " [2 4 5]\n",
      " [3 5 6]]\n"
     ]
    }
   ],
   "source": [
    "# symmetric matrix\n",
    "\n",
    "sy_matrix = np.array([[1, 2, 3], [2, 4, 5], [3, 5, 6]])\n",
    "print(sy_matrix)"
   ]
  },
  {
   "cell_type": "code",
   "execution_count": 18,
   "id": "02bd2a22-7fd4-4042-9fef-139c414c325f",
   "metadata": {
    "scrolled": true
   },
   "outputs": [
    {
     "name": "stdout",
     "output_type": "stream",
     "text": [
      "[[13.   8.  14.5 14.5]\n",
      " [ 8.   7.   9.  12. ]\n",
      " [14.5  9.  15.  12. ]\n",
      " [14.5 12.  12.  18. ]]\n"
     ]
    }
   ],
   "source": [
    "# symmetric matrix using random values\n",
    "\n",
    "n = 4  # Size of the matrix\n",
    "sym_matrix = np.random.randint(1,20,(n, n))\n",
    "sym_matrix = (sym_matrix + sym_matrix.T) / 2 \n",
    "\n",
    "print(sym_matrix)"
   ]
  },
  {
   "cell_type": "code",
   "execution_count": 25,
   "id": "bee5f633-cd40-4020-b228-3e31540060f2",
   "metadata": {},
   "outputs": [
    {
     "name": "stdout",
     "output_type": "stream",
     "text": [
      "[[  8   4   2   1]\n",
      " [ 27   9   3   1]\n",
      " [125  25   5   1]\n",
      " [216  36   6   1]]\n"
     ]
    }
   ],
   "source": [
    "# vander matrix: A matrix in which each column is a power of the vector input.\n",
    "\n",
    "vander_matrix = np.vander([2, 3, 5,6])\n",
    "print(vander_matrix)"
   ]
  },
  {
   "cell_type": "code",
   "execution_count": 29,
   "id": "0ed8bc12-e893-43f9-b758-28cbf4ea3ec9",
   "metadata": {},
   "outputs": [
    {
     "name": "stdout",
     "output_type": "stream",
     "text": [
      "[[1 2 3 6]\n",
      " [2 3 6 4]\n",
      " [3 6 4 5]\n",
      " [6 7 3 1]]\n"
     ]
    }
   ],
   "source": [
    "# hankel matrix: A matrix in which each ascending diagonal from left to right is constant.\n",
    "\n",
    "hankel_matrix = np.array([[1, 2, 3,6], [2, 3, 6,4], [3,6, 4, 5],[6,7,3,1]])\n",
    "print(hankel_matrix)"
   ]
  },
  {
   "cell_type": "code",
   "execution_count": 3,
   "id": "25f1fce6-0377-49bc-a56e-b9300235e9bb",
   "metadata": {},
   "outputs": [
    {
     "name": "stdout",
     "output_type": "stream",
     "text": [
      "[[1 2 3 6]\n",
      " [2 3 6 4]\n",
      " [3 6 4 5]\n",
      " [6 7 3 1]]\n"
     ]
    }
   ],
   "source": [
    "# hankel matrix: A matrix in which each ascending diagonal from left to right is constant.\n",
    "\n",
    "hankel_matrix = np.array([[1, 2, 3,6], [2, 3, 6,4], [3,6, 4, 5],[6,7,3,1]])\n",
    "print(hankel_matrix)"
   ]
  }
 ],
 "metadata": {
  "kernelspec": {
   "display_name": "Python 3 (ipykernel)",
   "language": "python",
   "name": "python3"
  },
  "language_info": {
   "codemirror_mode": {
    "name": "ipython",
    "version": 3
   },
   "file_extension": ".py",
   "mimetype": "text/x-python",
   "name": "python",
   "nbconvert_exporter": "python",
   "pygments_lexer": "ipython3",
   "version": "3.11.7"
  },
  "widgets": {
   "application/vnd.jupyter.widget-state+json": {
    "state": {},
    "version_major": 2,
    "version_minor": 0
   }
  }
 },
 "nbformat": 4,
 "nbformat_minor": 5
}
